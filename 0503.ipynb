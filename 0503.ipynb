{
  "nbformat": 4,
  "nbformat_minor": 0,
  "metadata": {
    "colab": {
      "provenance": [],
      "authorship_tag": "ABX9TyP03388A4JXMNF9KqLPDufm",
      "include_colab_link": true
    },
    "kernelspec": {
      "name": "python3",
      "display_name": "Python 3"
    },
    "language_info": {
      "name": "python"
    }
  },
  "cells": [
    {
      "cell_type": "markdown",
      "metadata": {
        "id": "view-in-github",
        "colab_type": "text"
      },
      "source": [
        "<a href=\"https://colab.research.google.com/github/AhTuBuo930520/introduction-to-Computers-/blob/main/0503.ipynb\" target=\"_parent\"><img src=\"https://colab.research.google.com/assets/colab-badge.svg\" alt=\"Open In Colab\"/></a>"
      ]
    },
    {
      "cell_type": "code",
      "execution_count": 1,
      "metadata": {
        "colab": {
          "base_uri": "https://localhost:8080/"
        },
        "id": "ajNvlg2V1iWO",
        "outputId": "46a84bcf-8e5b-4c78-bfc1-0c84db0587cf"
      },
      "outputs": [
        {
          "output_type": "stream",
          "name": "stdout",
          "text": [
            "peiyu\n"
          ]
        }
      ],
      "source": [
        "print(\"peiyu\")"
      ]
    },
    {
      "cell_type": "code",
      "source": [
        "sum=0\n",
        "for i in range (1,101):\n",
        "  sum +=i\n",
        "print(sum)"
      ],
      "metadata": {
        "colab": {
          "base_uri": "https://localhost:8080/"
        },
        "id": "wYlLKu5Z1xWj",
        "outputId": "47143fc1-6a3a-43dd-e65f-4e36a31e8a54"
      },
      "execution_count": 7,
      "outputs": [
        {
          "output_type": "stream",
          "name": "stdout",
          "text": [
            "5050\n"
          ]
        }
      ]
    },
    {
      "cell_type": "code",
      "source": [
        "h,w=map(int,input().split())\n",
        "bmi=w*10000/h**2\n",
        "print(\"%.2f\" %bmi)"
      ],
      "metadata": {
        "colab": {
          "base_uri": "https://localhost:8080/"
        },
        "id": "WT16-Elf2Sfj",
        "outputId": "54963a7b-5a4e-4a6e-a9b5-7edf06fed644"
      },
      "execution_count": 9,
      "outputs": [
        {
          "output_type": "stream",
          "name": "stdout",
          "text": [
            "176 75\n",
            "24.21\n"
          ]
        }
      ]
    }
  ]
}